{
 "cells": [
  {
   "cell_type": "code",
   "execution_count": 10,
   "metadata": {},
   "outputs": [
    {
     "name": "stdout",
     "output_type": "stream",
     "text": [
      "data1: 0.5963869867585337\n",
      "data2:\n",
      " [0.13889713 2.26242624 0.50506476 2.03185038 0.2242031 ]\n",
      "data3:\n",
      " [[0.01685773 0.77385045 2.05885179]\n",
      " [2.22890109 1.9275383  2.15076649]\n",
      " [0.60066752 0.45113675 0.66200781]]\n",
      "\n"
     ]
    }
   ],
   "source": [
    "import numpy as np\n",
    "from matplotlib import pyplot as plt\n",
    "\n",
    "\n",
    "# uniform(low=0.0, high=1.0, size=None)均匀分布\n",
    "# 默认在[0, 1)区间内生成一个随机实数\n",
    "data1 = np.random.uniform()\n",
    "print(\"data1:\", data1)\n",
    "\n",
    "# 使用size参数指定维度\n",
    "# size参数为单个整型值时产生一个数组\n",
    "data2 = np.random.uniform(0, 3, 5)\n",
    "print(\"data2:\\n\", data2)\n",
    "# size参数为数组时产生一个多维数组, 如(3, 3)产生一个3x3的二维数组, [low, high)将会被均分为3x3份\n",
    "data3 = np.random.uniform(0, 3, (3, 3))\n",
    "print(\"data3:\\n\", data3)\n",
    "\n",
    "print()"
   ]
  },
  {
   "cell_type": "code",
   "execution_count": 11,
   "metadata": {},
   "outputs": [
    {
     "name": "stdout",
     "output_type": "stream",
     "text": [
      "data1: 0.3340459202953884\n",
      "data2:\n",
      " [[0.43561202 0.39155519 0.89863326 0.50627326]\n",
      " [0.99858161 0.52182597 0.35517199 0.46323545]\n",
      " [0.77768034 0.60001427 0.24825062 0.01086599]]\n"
     ]
    }
   ],
   "source": [
    "# rand(d0, d1, ..., dn)均匀分布\n",
    "# 默认在[0, 1)区间内生成一个随机实数\n",
    "data1 = np.random.rand()\n",
    "print(\"data1:\", data1)\n",
    "# 指定生成的数组的形状\n",
    "data2 = np.random.rand(3, 4)   # 生成3x4的矩阵\n",
    "print(\"data2:\\n\", data2)"
   ]
  },
  {
   "cell_type": "code",
   "execution_count": 12,
   "metadata": {},
   "outputs": [
    {
     "name": "stdout",
     "output_type": "stream",
     "text": [
      "data1: 2\n",
      "data2: [6 7 7 5 7]\n",
      "data3:\n",
      " [[ 6  2  2  2]\n",
      " [ 7 11  4  7]\n",
      " [ 7  6 12  1]]\n",
      "data3:\n",
      " [[2 6]\n",
      " [3 2]\n",
      " [5 3]]\n"
     ]
    }
   ],
   "source": [
    "# randint(low, high=None, size=None, dtype='l')‌ 生成随机数\n",
    "# randint至少一个参数, 生成[0, low)的一个随机整数\n",
    "data1 = np.random.randint(3)   # [0, 3)的一个随机整数\n",
    "print(\"data1:\", data1)\n",
    "# [3, 8)区间的5个随机整数\n",
    "data2 = np.random.randint(3, 8, 5)\n",
    "print(\"data2:\", data2)\n",
    "\n",
    "# size参数指定生成数组的形状\n",
    "# [1, 13)区间的12个随机整数, 要求为(3, 4)的矩阵\n",
    "data3 = np.random.randint(1, 13, (3, 4))\n",
    "print(\"data3:\\n\", data3)\n",
    "\n",
    "# dtype参数指定生成数组中元素的类型\n",
    "# [1, 7)区间的6个随机整数, 要求为(3, 2)的矩阵, 且数据类型为int64\n",
    "data4 = np.random.randint(1, 7, (3, 2), dtype=\"i8\")\n",
    "print(\"data3:\\n\", data4)"
   ]
  },
  {
   "cell_type": "code",
   "execution_count": 16,
   "metadata": {},
   "outputs": [
    {
     "data": {
      "image/png": "[encoded data removed]",
      "text/plain": [
       "<Figure size 640x480 with 1 Axes>"
      ]
     },
     "metadata": {},
     "output_type": "display_data"
    }
   ],
   "source": [
    "# normal(loc=0.0, scale=1.0, size=None)：生成具有指定均值（loc）和标准差（scale）的正态分布随机数\n",
    "# 产生1000个符合正态分布的随机数\n",
    "data1 = np.random.normal(0, 1, 1000)   # 指定为1维数组, 有1000个元素\n",
    "# 进行正态分布的拟合\n",
    "count, items, arr = plt.hist(data1, 30)   # count通用即某一item出现的次数\n",
    "# 绘图展示\n",
    "mu = 0; sigma = 1\n",
    "plt.plot(items, 1.0/(np.sqrt(2*np.pi)*sigma)*np.exp(-(items-mu)**2/(2*sigma**2)), lw=2, c='r')\n",
    "plt.show()"
   ]
  },
  {
   "cell_type": "code",
   "execution_count": 17,
   "metadata": {},
   "outputs": [
    {
     "name": "stdout",
     "output_type": "stream",
     "text": [
      "data1:\n",
      " [[28 19 83 40]\n",
      " [52 74 84 58]\n",
      " [27 53 16  4]]\n"
     ]
    }
   ],
   "source": [
    "# choice(a, size=None, replace=True, p=None)‌ 从给定的一维数组a中抽取size个数据, 生成随机样本。\n",
    "arr = np.arange(1, 100)\n",
    "data1 = np.random.choice(arr, size=(3, 4), replace=False)   # 在arr中抽取出一个(3, 4)的矩阵, replace=False表示元素不重复\n",
    "print(\"data1:\\n\", data1)"
   ]
  },
  {
   "cell_type": "code",
   "execution_count": 19,
   "metadata": {},
   "outputs": [
    {
     "name": "stdout",
     "output_type": "stream",
     "text": [
      "arr: [ 6  9  7  2  1  4  5 10  3  8]\n",
      "data1: [ 5  1  3  6  8  2  7  9  4 10]\n",
      "原数组:  [ 1  2  3  4  5  6  7  8  9 10]\n"
     ]
    }
   ],
   "source": [
    "# shuffle(x)‌ 对数组 x 进行就地随机排列。\n",
    "arr = np.arange(1, 11, 1)\n",
    "np.random.shuffle(arr)\n",
    "print(\"arr:\", arr)\n",
    "\n",
    "# permutation(x) 类似于shuffle()函数, 但是为根据数组 x 进行随机排序, 将结果返回. \n",
    "arr = np.arange(1, 11, 1)\n",
    "data1 = np.random.permutation(arr)\n",
    "print(\"data1:\", data1)\n",
    "print(\"原数组: \", arr)"
   ]
  }
 ],
 "metadata": {
  "kernelspec": {
   "display_name": "py12_venv",
   "language": "python",
   "name": "python3"
  },
  "language_info": {
   "codemirror_mode": {
    "name": "ipython",
    "version": 3
   },
   "file_extension": ".py",
   "mimetype": "text/x-python",
   "name": "python",
   "nbconvert_exporter": "python",
   "pygments_lexer": "ipython3",
   "version": "3.12.3"
  }
 },
 "nbformat": 4,
 "nbformat_minor": 2
}
