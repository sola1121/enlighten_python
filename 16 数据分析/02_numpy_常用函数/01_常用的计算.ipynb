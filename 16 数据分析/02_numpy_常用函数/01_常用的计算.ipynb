{
 "cells": [
  {
   "cell_type": "code",
   "execution_count": 2,
   "metadata": {},
   "outputs": [
    {
     "name": "stdout",
     "output_type": "stream",
     "text": [
      "[10 12 14 16 18]\n"
     ]
    }
   ],
   "source": [
    "import numpy as np\n",
    "\n",
    "\n",
    "a = np.arange(0, 5)\n",
    "b = np.arange(10, 15)\n",
    "\n",
    "c = np.add(a, b)\n",
    "\n",
    "print(c)"
   ]
  },
  {
   "cell_type": "code",
   "execution_count": 3,
   "metadata": {},
   "outputs": [
    {
     "name": "stdout",
     "output_type": "stream",
     "text": [
      "[7 8 9]\n",
      "[3 6 9]\n"
     ]
    }
   ],
   "source": [
    "# 聚合函数, 沿着某一维进行聚合, 然后得出值\n",
    "matrix = np.array([[1, 2, 3], [4, 5, 6], [7, 8, 9]])\n",
    "# 通过ndarray方法中的参数axis\n",
    "ret = matrix.max(axis=0)   # 第一个轴, 即列, 将会输出矩阵每一列中最大的值\n",
    "print(ret)\n",
    "\n",
    "# 通过numpy.max()函数中的参数axis\n",
    "ret = np.max(matrix, axis=1)   # 第二个轴, 即行, 将会输出矩阵每一行中的最大值\n",
    "print(ret)"
   ]
  },
  {
   "cell_type": "code",
   "execution_count": 17,
   "metadata": {},
   "outputs": [
    {
     "name": "stdout",
     "output_type": "stream",
     "text": [
      "未排序的数组:\n",
      " [(b'Li', 1.8 , 29) (b'Zhang', 1.7 , 26) (b'Pu', 1.74, 32)]\n",
      "排序后的数组:\n",
      " [(b'Zhang', 1.7 , 26) (b'Li', 1.8 , 29) (b'Pu', 1.74, 32)]\n",
      "原数组: [2 1 5 3 4 6 0]\n",
      "从小到大的索引为: [6 1 0 3 4 2 5]\n",
      "则排序数组为: [0 1 2 3 4 5 6]\n",
      "排序后的下标: [1 0 3 2]\n",
      "对应的数组值\n",
      " [['Huang' '78']\n",
      " ['Nin' '80']\n",
      " ['Cheng' '84']\n",
      " ['Qian' '91']]\n"
     ]
    }
   ],
   "source": [
    "# 排序函数\n",
    "# 使用归并排序, 将二维数组以第二轴(即行)排序, 返回新的排序后的数组\n",
    "sorted_matrix = np.sort(matrix, axis=1, kind=\"mergesort\")\n",
    "\n",
    "# 对于结构体数组, 可以使用order参数指定排序的依据\n",
    "struct_type = [(\"Name\", \"S32\"), (\"Height\", float), (\"Age\", int)]\n",
    "values = [(\"Li\", 1.8, 29), (\"Zhang\", 1.7, 26), (\"Pu\", 1.74, 32)]\n",
    "struct_arr = np.array(values, dtype=struct_type)\n",
    "print(\"未排序的数组:\\n\", struct_arr)\n",
    "# 使用快速排序, 将二维数组以第一轴(即列)排序, 先按照Age, 再按照Height排序\n",
    "sorted_arr = np.sort(struct_arr, axis=0, order=[\"Age\", \"Height\"])\n",
    "print(\"排序后的数组:\\n\", sorted_arr)\n",
    "\n",
    "# 排序索引\n",
    "arr = np.arange(7)\n",
    "np.random.shuffle(arr)\n",
    "print(\"原数组:\", arr)\n",
    "# 使用堆排序, 获取排序后对比元素组的索引\n",
    "index_arr = np.argsort(arr, kind=\"heapsort\")\n",
    "print(\"从小到大的索引为:\", index_arr)\n",
    "print(\"则排序数组为:\", arr[index_arr])\n",
    "# 根据键进行排序, 获得排序后的索引\n",
    "names = np.array([\"Nin\", \"Huang\", \"Qian\", \"Cheng\"])\n",
    "scores = np.array([80, 78, 91, 84])\n",
    "index_arr = np.lexsort((names, scores))\n",
    "print(\"排序后的下标:\", index_arr)\n",
    "print(\"对应的数组值\\n\", (np.vstack((names[index_arr], scores[index_arr])).T))\n"
   ]
  }
 ],
 "metadata": {
  "kernelspec": {
   "display_name": "py12_venv",
   "language": "python",
   "name": "python3"
  },
  "language_info": {
   "codemirror_mode": {
    "name": "ipython",
    "version": 3
   },
   "file_extension": ".py",
   "mimetype": "text/x-python",
   "name": "python",
   "nbconvert_exporter": "python",
   "pygments_lexer": "ipython3",
   "version": "3.12.3"
  }
 },
 "nbformat": 4,
 "nbformat_minor": 2
}
