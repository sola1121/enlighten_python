{
 "cells": [
  {
   "cell_type": "code",
   "execution_count": 5,
   "metadata": {},
   "outputs": [
    {
     "name": "stdout",
     "output_type": "stream",
     "text": [
      "所生成的数组: [ 1  2  3  4  5  6  7  8  9 10 11 12 13 14 15]\n",
      "转换为矩阵 (5, 3) \n",
      " [[ 1  2  3]\n",
      " [ 4  5  6]\n",
      " [ 7  8  9]\n",
      " [10 11 12]\n",
      " [13 14 15]] \n",
      "\n",
      "所生成的数组: [ 1  2  3  4  5  6  7  8  9 10 11 12 13 14 15]\n",
      "转换为矩阵 (5, 3) \n",
      " [[ 1  2  3  4  5]\n",
      " [ 6  7  8  9 10]\n",
      " [11 12 13 14 15]]\n"
     ]
    }
   ],
   "source": [
    "import numpy as np\n",
    "\n",
    "\n",
    "# 使用array()函数从已知的序列中创建ndarray对象\n",
    "arr1 = np.array([val for val in range(1, 16)])\n",
    "print(\"所生成的数组:\", arr1)\n",
    "# 通过更改shape属性, 更改为一个5*3的矩阵\n",
    "arr1.shape = (5, 3)\n",
    "print(\"转换为矩阵\", arr1.shape, '\\n', arr1, '\\n')\n",
    "\n",
    "\n",
    "# 使用arange()函数从指定区间创建ndarray对象\n",
    "arr2 = np.arange(1, 16, 1)\n",
    "print(\"所生成的数组:\", arr2)\n",
    "# 通过reshape()方法, 在映射一个3*5的矩阵\n",
    "arr2 = arr2.reshape(3, 5)\n",
    "print(\"转换为矩阵\", arr1.shape, '\\n', arr2)\n"
   ]
  },
  {
   "cell_type": "code",
   "execution_count": 11,
   "metadata": {},
   "outputs": [
    {
     "name": "stdout",
     "output_type": "stream",
     "text": [
      "[[ 1  4  7 10 13]\n",
      " [ 2  5  8 11 14]\n",
      " [ 3  6  9 12 15]]\n",
      "arr2的维度为 2\n",
      "元素字节大小 8\n"
     ]
    }
   ],
   "source": [
    "# 输出转置的视图\n",
    "print(arr1.T)\n",
    "# 输出数组的维度\n",
    "print(\"arr2的维度为\", arr2.ndim)\n",
    "# 输出数组中每个元素的字节大小\n",
    "print(\"元素字节大小\", arr1.itemsize)"
   ]
  }
 ],
 "metadata": {
  "kernelspec": {
   "display_name": "py12_venv",
   "language": "python",
   "name": "python3"
  },
  "language_info": {
   "codemirror_mode": {
    "name": "ipython",
    "version": 3
   },
   "file_extension": ".py",
   "mimetype": "text/x-python",
   "name": "python",
   "nbconvert_exporter": "python",
   "pygments_lexer": "ipython3",
   "version": "3.12.3"
  }
 },
 "nbformat": 4,
 "nbformat_minor": 2
}
