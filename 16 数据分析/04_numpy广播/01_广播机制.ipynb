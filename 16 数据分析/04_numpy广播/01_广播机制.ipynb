{
 "cells": [
  {
   "cell_type": "code",
   "execution_count": 3,
   "metadata": {},
   "outputs": [
    {
     "name": "stdout",
     "output_type": "stream",
     "text": [
      "同形数组相乘:\n",
      " [[ 7 16]\n",
      " [27 40]\n",
      " [55 72]]\n",
      "不同形, 但后缘轴相同, 但可以通过广播完成运算:\n",
      " [[ 8 10]\n",
      " [10 12]\n",
      " [12 14]]\n",
      "不同形, 但某一数组后缘轴长度为1, 可以通过广播完成运算:\n",
      " [[11 12 13]\n",
      " [24 25 26]]\n"
     ]
    }
   ],
   "source": [
    "import numpy as np\n",
    "\n",
    "a = np.array([[1, 2], [3, 4], [5, 6]])\n",
    "b = np.array([[7, 8], [9, 10], [11, 12]])\n",
    "c = a * b   # a, b 都是2x3的二维数组\n",
    "print(\"同形数组相乘:\\n\", c)\n",
    "\n",
    "# shape属性不一样, 但是后缘维度相同, 会使用numpy的广播机制, 可以执行相互运算\n",
    "a = np.array([[1, 2], [3, 4], [5, 6]])\n",
    "b = np.array([7, 8])\n",
    "c = a + b\n",
    "print(\"不同形, 但后缘轴相同, 但可以通过广播完成运算:\\n\", c)\n",
    "\n",
    "# shape属性不一样, 但是有一个数组后缘轴长度为1, 会使用numpy的广播机制, 可以执行相互运算\n",
    "a = np.array([[1, 2, 3], [4, 5, 6]])\n",
    "b = np.array([[10], [20]])\n",
    "c = a + b   # a是2x3的二维数组, b是一个2x1的二维数组, b的后缘轴长度为1, 可以执行相互运算\n",
    "print(\"不同形, 但某一数组后缘轴长度为1, 可以通过广播完成运算:\\n\", c)"
   ]
  }
 ],
 "metadata": {
  "kernelspec": {
   "display_name": "py12_venv",
   "language": "python",
   "name": "python3"
  },
  "language_info": {
   "codemirror_mode": {
    "name": "ipython",
    "version": 3
   },
   "file_extension": ".py",
   "mimetype": "text/x-python",
   "name": "python",
   "nbconvert_exporter": "python",
   "pygments_lexer": "ipython3",
   "version": "3.12.3"
  }
 },
 "nbformat": 4,
 "nbformat_minor": 2
}
